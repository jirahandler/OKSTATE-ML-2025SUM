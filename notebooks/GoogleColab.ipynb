{
  "cells": [
    {
      "cell_type": "code",
      "execution_count": 1,
      "id": "d1de1f0e-7d91-45b2-b615-942c0b210c30",
      "metadata": {
        "id": "d1de1f0e-7d91-45b2-b615-942c0b210c30",
        "outputId": "d2fa4b21-a7e4-4f7e-aec6-805a10c0ddb3",
        "colab": {
          "base_uri": "https://localhost:8080/"
        }
      },
      "outputs": [
        {
          "output_type": "stream",
          "name": "stdout",
          "text": [
            "Cloning into 'ML_Tutorial_2025'...\n",
            "remote: Enumerating objects: 95, done.\u001b[K\n",
            "remote: Counting objects: 100% (95/95), done.\u001b[K\n",
            "remote: Compressing objects: 100% (68/68), done.\u001b[K\n",
            "remote: Total 95 (delta 40), reused 73 (delta 22), pack-reused 0 (from 0)\u001b[K\n",
            "Receiving objects: 100% (95/95), 1.47 MiB | 11.67 MiB/s, done.\n",
            "Resolving deltas: 100% (40/40), done.\n",
            "Filtering content: 100% (3/3), 1.12 GiB | 46.10 MiB/s, done.\n"
          ]
        }
      ],
      "source": [
        "!git clone https://github.com/LukeV37/ML_Tutorial_2025.git"
      ]
    },
    {
      "cell_type": "code",
      "execution_count": 2,
      "id": "7af9ae4a-61d3-4c8a-bc9c-83c0690131d1",
      "metadata": {
        "id": "7af9ae4a-61d3-4c8a-bc9c-83c0690131d1",
        "outputId": "fabfacb3-e929-4f1e-c70e-cec188c682cf",
        "colab": {
          "base_uri": "https://localhost:8080/"
        }
      },
      "outputs": [
        {
          "output_type": "stream",
          "name": "stdout",
          "text": [
            "/content/ML_Tutorial_2025/software\n",
            "  % Total    % Received % Xferd  Average Speed   Time    Time     Time  Current\n",
            "                                 Dload  Upload   Total   Spent    Left  Speed\n",
            "100 28.8M  100 28.8M    0     0  12.1M      0  0:00:02  0:00:02 --:--:-- 12.1M\n",
            "/content/ML_Tutorial_2025/software/pythia8312\n",
            "\u001b[1mRunning PYTHIA configuration script. Now is Tue Jul 1 05:22:25 PM UTC 2025\u001b[m\n",
            "\u001b[30m\u001b[43mWARNING: CXX not set, using g++.\u001b[m\n",
            "---------------------------------------------------------------------\n",
            "|                    PYTHIA Configuration Summary                   |\n",
            "---------------------------------------------------------------------\n",
            "  Architecture                = LINUX\n",
            "  C++ compiler     CXX        = g++\n",
            "  C++ dynamic tags CXX_DTAGS  = -Wl,--disable-new-dtags\n",
            "  C++ flags        CXX_COMMON = -O2 -std=c++11 -pedantic -W -Wall -Wshadow -fPIC -pthread\n",
            "  C++ shared flag  CXX_SHARED = -shared\n",
            "  Further options             = \n",
            "\n",
            "The following optional external packages will be used:\n",
            "\u001b[1m + PYTHON\u001b[m (-I/usr/include/python3.11 -I/usr/include/python3.11)\n",
            "g++ src/Analysis.cc -o tmp/Analysis.o -c -MD -Iinclude -O2 -std=c++11 -pedantic -W -Wall -Wshadow -fPIC -pthread \n",
            "g++ src/Basics.cc -o tmp/Basics.o -c -MD -Iinclude -O2 -std=c++11 -pedantic -W -Wall -Wshadow -fPIC -pthread \n",
            "g++ src/BeamParticle.cc -o tmp/BeamParticle.o -c -MD -Iinclude -O2 -std=c++11 -pedantic -W -Wall -Wshadow -fPIC -pthread \n",
            "g++ src/BeamRemnants.cc -o tmp/BeamRemnants.o -c -MD -Iinclude -O2 -std=c++11 -pedantic -W -Wall -Wshadow -fPIC -pthread \n",
            "g++ src/BeamSetup.cc -o tmp/BeamSetup.o -c -MD -Iinclude -O2 -std=c++11 -pedantic -W -Wall -Wshadow -fPIC -pthread \n",
            "g++ src/BeamShape.cc -o tmp/BeamShape.o -c -MD -Iinclude -O2 -std=c++11 -pedantic -W -Wall -Wshadow -fPIC -pthread \n",
            "g++ src/BoseEinstein.cc -o tmp/BoseEinstein.o -c -MD -Iinclude -O2 -std=c++11 -pedantic -W -Wall -Wshadow -fPIC -pthread \n",
            "g++ src/ColourReconnection.cc -o tmp/ColourReconnection.o -c -MD -Iinclude -O2 -std=c++11 -pedantic -W -Wall -Wshadow -fPIC -pthread \n",
            "g++ src/ColourTracing.cc -o tmp/ColourTracing.o -c -MD -Iinclude -O2 -std=c++11 -pedantic -W -Wall -Wshadow -fPIC -pthread \n",
            "g++ src/DeuteronProduction.cc -o tmp/DeuteronProduction.o -c -MD -Iinclude -O2 -std=c++11 -pedantic -W -Wall -Wshadow -fPIC -pthread \n",
            "g++ src/Dire.cc -o tmp/Dire.o -c -MD -Iinclude -O2 -std=c++11 -pedantic -W -Wall -Wshadow -fPIC -pthread \n",
            "g++ src/DireBasics.cc -o tmp/DireBasics.o -c -MD -Iinclude -O2 -std=c++11 -pedantic -W -Wall -Wshadow -fPIC -pthread \n",
            "g++ src/DireHistory.cc -o tmp/DireHistory.o -c -MD -Iinclude -O2 -std=c++11 -pedantic -W -Wall -Wshadow -fPIC -pthread \n",
            "g++ src/DireMerging.cc -o tmp/DireMerging.o -c -MD -Iinclude -O2 -std=c++11 -pedantic -W -Wall -Wshadow -fPIC -pthread \n",
            "g++ src/DireMergingHooks.cc -o tmp/DireMergingHooks.o -c -MD -Iinclude -O2 -std=c++11 -pedantic -W -Wall -Wshadow -fPIC -pthread \n",
            "g++ src/DireSpace.cc -o tmp/DireSpace.o -c -MD -Iinclude -O2 -std=c++11 -pedantic -W -Wall -Wshadow -fPIC -pthread \n",
            "g++ src/DireSplitInfo.cc -o tmp/DireSplitInfo.o -c -MD -Iinclude -O2 -std=c++11 -pedantic -W -Wall -Wshadow -fPIC -pthread \n",
            "g++ src/DireSplittingLibrary.cc -o tmp/DireSplittingLibrary.o -c -MD -Iinclude -O2 -std=c++11 -pedantic -W -Wall -Wshadow -fPIC -pthread \n",
            "g++ src/DireSplittings.cc -o tmp/DireSplittings.o -c -MD -Iinclude -O2 -std=c++11 -pedantic -W -Wall -Wshadow -fPIC -pthread \n",
            "g++ src/DireSplittingsEW.cc -o tmp/DireSplittingsEW.o -c -MD -Iinclude -O2 -std=c++11 -pedantic -W -Wall -Wshadow -fPIC -pthread \n",
            "g++ src/DireSplittingsQCD.cc -o tmp/DireSplittingsQCD.o -c -MD -Iinclude -O2 -std=c++11 -pedantic -W -Wall -Wshadow -fPIC -pthread \n",
            "g++ src/DireSplittingsQED.cc -o tmp/DireSplittingsQED.o -c -MD -Iinclude -O2 -std=c++11 -pedantic -W -Wall -Wshadow -fPIC -pthread \n",
            "g++ src/DireSplittingsU1new.cc -o tmp/DireSplittingsU1new.o -c -MD -Iinclude -O2 -std=c++11 -pedantic -W -Wall -Wshadow -fPIC -pthread \n",
            "g++ src/DireTimes.cc -o tmp/DireTimes.o -c -MD -Iinclude -O2 -std=c++11 -pedantic -W -Wall -Wshadow -fPIC -pthread \n",
            "g++ src/DireWeightContainer.cc -o tmp/DireWeightContainer.o -c -MD -Iinclude -O2 -std=c++11 -pedantic -W -Wall -Wshadow -fPIC -pthread \n",
            "g++ src/Event.cc -o tmp/Event.o -c -MD -Iinclude -O2 -std=c++11 -pedantic -W -Wall -Wshadow -fPIC -pthread \n",
            "g++ src/ExternalMEs.cc -o tmp/ExternalMEs.o -c -MD -Iinclude -O2 -std=c++11 -pedantic -W -Wall -Wshadow -fPIC -pthread \n",
            "g++ src/FJcore.cc -o tmp/FJcore.o -c -MD -Iinclude -O2 -std=c++11 -pedantic -W -Wall -Wshadow -fPIC -pthread  -DFJCORE_HAVE_LIMITED_THREAD_SAFETY\n",
            "g++ src/FragmentationFlavZpT.cc -o tmp/FragmentationFlavZpT.o -c -MD -Iinclude -O2 -std=c++11 -pedantic -W -Wall -Wshadow -fPIC -pthread \n",
            "g++ src/FragmentationSystems.cc -o tmp/FragmentationSystems.o -c -MD -Iinclude -O2 -std=c++11 -pedantic -W -Wall -Wshadow -fPIC -pthread \n",
            "g++ src/GammaKinematics.cc -o tmp/GammaKinematics.o -c -MD -Iinclude -O2 -std=c++11 -pedantic -W -Wall -Wshadow -fPIC -pthread \n",
            "g++ src/HIInfo.cc -o tmp/HIInfo.o -c -MD -Iinclude -O2 -std=c++11 -pedantic -W -Wall -Wshadow -fPIC -pthread \n",
            "g++ src/HINucleusModel.cc -o tmp/HINucleusModel.o -c -MD -Iinclude -O2 -std=c++11 -pedantic -W -Wall -Wshadow -fPIC -pthread \n",
            "g++ src/HISubCollisionModel.cc -o tmp/HISubCollisionModel.o -c -MD -Iinclude -O2 -std=c++11 -pedantic -W -Wall -Wshadow -fPIC -pthread \n",
            "g++ src/HadronLevel.cc -o tmp/HadronLevel.o -c -MD -Iinclude -O2 -std=c++11 -pedantic -W -Wall -Wshadow -fPIC -pthread \n",
            "g++ src/HadronWidths.cc -o tmp/HadronWidths.o -c -MD -Iinclude -O2 -std=c++11 -pedantic -W -Wall -Wshadow -fPIC -pthread \n",
            "g++ src/HardDiffraction.cc -o tmp/HardDiffraction.o -c -MD -Iinclude -O2 -std=c++11 -pedantic -W -Wall -Wshadow -fPIC -pthread \n",
            "g++ src/HeavyIons.cc -o tmp/HeavyIons.o -c -MD -Iinclude -O2 -std=c++11 -pedantic -W -Wall -Wshadow -fPIC -pthread \n",
            "g++ src/HelicityBasics.cc -o tmp/HelicityBasics.o -c -MD -Iinclude -O2 -std=c++11 -pedantic -W -Wall -Wshadow -fPIC -pthread \n",
            "g++ src/HelicityMatrixElements.cc -o tmp/HelicityMatrixElements.o -c -MD -Iinclude -O2 -std=c++11 -pedantic -W -Wall -Wshadow -fPIC -pthread \n",
            "g++ src/HiddenValleyFragmentation.cc -o tmp/HiddenValleyFragmentation.o -c -MD -Iinclude -O2 -std=c++11 -pedantic -W -Wall -Wshadow -fPIC -pthread \n",
            "g++ src/History.cc -o tmp/History.o -c -MD -Iinclude -O2 -std=c++11 -pedantic -W -Wall -Wshadow -fPIC -pthread \n",
            "g++ src/Info.cc -o tmp/Info.o -c -MD -Iinclude -O2 -std=c++11 -pedantic -W -Wall -Wshadow -fPIC -pthread \n",
            "g++ src/JunctionSplitting.cc -o tmp/JunctionSplitting.o -c -MD -Iinclude -O2 -std=c++11 -pedantic -W -Wall -Wshadow -fPIC -pthread \n",
            "g++ src/LHEF3.cc -o tmp/LHEF3.o -c -MD -Iinclude -O2 -std=c++11 -pedantic -W -Wall -Wshadow -fPIC -pthread \n",
            "g++ src/LesHouches.cc -o tmp/LesHouches.o -c -MD -Iinclude -O2 -std=c++11 -pedantic -W -Wall -Wshadow -fPIC -pthread \n",
            "g++ src/Logger.cc -o tmp/Logger.o -c -MD -Iinclude -O2 -std=c++11 -pedantic -W -Wall -Wshadow -fPIC -pthread \n",
            "g++ src/LowEnergyProcess.cc -o tmp/LowEnergyProcess.o -c -MD -Iinclude -O2 -std=c++11 -pedantic -W -Wall -Wshadow -fPIC -pthread \n",
            "g++ src/MathTools.cc -o tmp/MathTools.o -c -MD -Iinclude -O2 -std=c++11 -pedantic -W -Wall -Wshadow -fPIC -pthread \n",
            "g++ src/Merging.cc -o tmp/Merging.o -c -MD -Iinclude -O2 -std=c++11 -pedantic -W -Wall -Wshadow -fPIC -pthread \n",
            "g++ src/MergingHooks.cc -o tmp/MergingHooks.o -c -MD -Iinclude -O2 -std=c++11 -pedantic -W -Wall -Wshadow -fPIC -pthread \n",
            "g++ src/MiniStringFragmentation.cc -o tmp/MiniStringFragmentation.o -c -MD -Iinclude -O2 -std=c++11 -pedantic -W -Wall -Wshadow -fPIC -pthread \n",
            "g++ src/MultipartonInteractions.cc -o tmp/MultipartonInteractions.o -c -MD -Iinclude -O2 -std=c++11 -pedantic -W -Wall -Wshadow -fPIC -pthread \n",
            "g++ src/NucleonExcitations.cc -o tmp/NucleonExcitations.o -c -MD -Iinclude -O2 -std=c++11 -pedantic -W -Wall -Wshadow -fPIC -pthread \n",
            "g++ src/ParticleData.cc -o tmp/ParticleData.o -c -MD -Iinclude -O2 -std=c++11 -pedantic -W -Wall -Wshadow -fPIC -pthread \n",
            "g++ src/ParticleDecays.cc -o tmp/ParticleDecays.o -c -MD -Iinclude -O2 -std=c++11 -pedantic -W -Wall -Wshadow -fPIC -pthread \n",
            "g++ src/PartonDistributions.cc -o tmp/PartonDistributions.o -c -MD -Iinclude -O2 -std=c++11 -pedantic -W -Wall -Wshadow -fPIC -pthread \n",
            "g++ src/PartonLevel.cc -o tmp/PartonLevel.o -c -MD -Iinclude -O2 -std=c++11 -pedantic -W -Wall -Wshadow -fPIC -pthread \n",
            "g++ src/PartonSystems.cc -o tmp/PartonSystems.o -c -MD -Iinclude -O2 -std=c++11 -pedantic -W -Wall -Wshadow -fPIC -pthread \n",
            "g++ src/PartonVertex.cc -o tmp/PartonVertex.o -c -MD -Iinclude -O2 -std=c++11 -pedantic -W -Wall -Wshadow -fPIC -pthread \n",
            "g++ src/PhaseSpace.cc -o tmp/PhaseSpace.o -c -MD -Iinclude -O2 -std=c++11 -pedantic -W -Wall -Wshadow -fPIC -pthread \n",
            "g++ src/PhysicsBase.cc -o tmp/PhysicsBase.o -c -MD -Iinclude -O2 -std=c++11 -pedantic -W -Wall -Wshadow -fPIC -pthread \n",
            "g++ src/Plugins.cc -o tmp/Plugins.o -c -MD -Iinclude -O2 -std=c++11 -pedantic -W -Wall -Wshadow -fPIC -pthread \n",
            "g++ src/ProcessContainer.cc -o tmp/ProcessContainer.o -c -MD -Iinclude -O2 -std=c++11 -pedantic -W -Wall -Wshadow -fPIC -pthread \n",
            "g++ src/ProcessLevel.cc -o tmp/ProcessLevel.o -c -MD -Iinclude -O2 -std=c++11 -pedantic -W -Wall -Wshadow -fPIC -pthread \n",
            "g++ src/Pythia.cc -o tmp/Pythia.o -c -MD -Iinclude -O2 -std=c++11 -pedantic -W -Wall -Wshadow -fPIC -pthread  -DXMLDIR=\\\"/content/ML_Tutorial_2025/software/pythia8312/share/Pythia8/xmldoc\\\"\n",
            "g++ src/PythiaParallel.cc -o tmp/PythiaParallel.o -c -MD -Iinclude -O2 -std=c++11 -pedantic -W -Wall -Wshadow -fPIC -pthread \n",
            "g++ src/PythiaStdlib.cc -o tmp/PythiaStdlib.o -c -MD -Iinclude -O2 -std=c++11 -pedantic -W -Wall -Wshadow -fPIC -pthread \n",
            "g++ src/RHadrons.cc -o tmp/RHadrons.o -c -MD -Iinclude -O2 -std=c++11 -pedantic -W -Wall -Wshadow -fPIC -pthread \n",
            "g++ src/ResonanceDecays.cc -o tmp/ResonanceDecays.o -c -MD -Iinclude -O2 -std=c++11 -pedantic -W -Wall -Wshadow -fPIC -pthread \n",
            "g++ src/ResonanceWidths.cc -o tmp/ResonanceWidths.o -c -MD -Iinclude -O2 -std=c++11 -pedantic -W -Wall -Wshadow -fPIC -pthread \n",
            "g++ src/ResonanceWidthsDM.cc -o tmp/ResonanceWidthsDM.o -c -MD -Iinclude -O2 -std=c++11 -pedantic -W -Wall -Wshadow -fPIC -pthread \n",
            "g++ src/Ropewalk.cc -o tmp/Ropewalk.o -c -MD -Iinclude -O2 -std=c++11 -pedantic -W -Wall -Wshadow -fPIC -pthread \n",
            "g++ src/SLHAinterface.cc -o tmp/SLHAinterface.o -c -MD -Iinclude -O2 -std=c++11 -pedantic -W -Wall -Wshadow -fPIC -pthread \n",
            "g++ src/Settings.cc -o tmp/Settings.o -c -MD -Iinclude -O2 -std=c++11 -pedantic -W -Wall -Wshadow -fPIC -pthread \n",
            "g++ src/ShowerModel.cc -o tmp/ShowerModel.o -c -MD -Iinclude -O2 -std=c++11 -pedantic -W -Wall -Wshadow -fPIC -pthread \n",
            "g++ src/SigmaCompositeness.cc -o tmp/SigmaCompositeness.o -c -MD -Iinclude -O2 -std=c++11 -pedantic -W -Wall -Wshadow -fPIC -pthread \n",
            "g++ src/SigmaDM.cc -o tmp/SigmaDM.o -c -MD -Iinclude -O2 -std=c++11 -pedantic -W -Wall -Wshadow -fPIC -pthread \n",
            "g++ src/SigmaEW.cc -o tmp/SigmaEW.o -c -MD -Iinclude -O2 -std=c++11 -pedantic -W -Wall -Wshadow -fPIC -pthread \n",
            "g++ src/SigmaExtraDim.cc -o tmp/SigmaExtraDim.o -c -MD -Iinclude -O2 -std=c++11 -pedantic -W -Wall -Wshadow -fPIC -pthread \n",
            "g++ src/SigmaGeneric.cc -o tmp/SigmaGeneric.o -c -MD -Iinclude -O2 -std=c++11 -pedantic -W -Wall -Wshadow -fPIC -pthread \n",
            "g++ src/SigmaHiggs.cc -o tmp/SigmaHiggs.o -c -MD -Iinclude -O2 -std=c++11 -pedantic -W -Wall -Wshadow -fPIC -pthread \n",
            "g++ src/SigmaLeftRightSym.cc -o tmp/SigmaLeftRightSym.o -c -MD -Iinclude -O2 -std=c++11 -pedantic -W -Wall -Wshadow -fPIC -pthread \n",
            "g++ src/SigmaLeptoquark.cc -o tmp/SigmaLeptoquark.o -c -MD -Iinclude -O2 -std=c++11 -pedantic -W -Wall -Wshadow -fPIC -pthread \n",
            "g++ src/SigmaLowEnergy.cc -o tmp/SigmaLowEnergy.o -c -MD -Iinclude -O2 -std=c++11 -pedantic -W -Wall -Wshadow -fPIC -pthread \n",
            "g++ src/SigmaNewGaugeBosons.cc -o tmp/SigmaNewGaugeBosons.o -c -MD -Iinclude -O2 -std=c++11 -pedantic -W -Wall -Wshadow -fPIC -pthread \n",
            "g++ src/SigmaOnia.cc -o tmp/SigmaOnia.o -c -MD -Iinclude -O2 -std=c++11 -pedantic -W -Wall -Wshadow -fPIC -pthread \n",
            "g++ src/SigmaProcess.cc -o tmp/SigmaProcess.o -c -MD -Iinclude -O2 -std=c++11 -pedantic -W -Wall -Wshadow -fPIC -pthread \n",
            "g++ src/SigmaQCD.cc -o tmp/SigmaQCD.o -c -MD -Iinclude -O2 -std=c++11 -pedantic -W -Wall -Wshadow -fPIC -pthread \n",
            "g++ src/SigmaSUSY.cc -o tmp/SigmaSUSY.o -c -MD -Iinclude -O2 -std=c++11 -pedantic -W -Wall -Wshadow -fPIC -pthread \n",
            "g++ src/SigmaTotal.cc -o tmp/SigmaTotal.o -c -MD -Iinclude -O2 -std=c++11 -pedantic -W -Wall -Wshadow -fPIC -pthread \n",
            "g++ src/SimpleSpaceShower.cc -o tmp/SimpleSpaceShower.o -c -MD -Iinclude -O2 -std=c++11 -pedantic -W -Wall -Wshadow -fPIC -pthread \n",
            "g++ src/SimpleTimeShower.cc -o tmp/SimpleTimeShower.o -c -MD -Iinclude -O2 -std=c++11 -pedantic -W -Wall -Wshadow -fPIC -pthread \n",
            "g++ src/SimpleWeakShowerMEs.cc -o tmp/SimpleWeakShowerMEs.o -c -MD -Iinclude -O2 -std=c++11 -pedantic -W -Wall -Wshadow -fPIC -pthread \n",
            "g++ src/SplittingsOnia.cc -o tmp/SplittingsOnia.o -c -MD -Iinclude -O2 -std=c++11 -pedantic -W -Wall -Wshadow -fPIC -pthread \n",
            "g++ src/StandardModel.cc -o tmp/StandardModel.o -c -MD -Iinclude -O2 -std=c++11 -pedantic -W -Wall -Wshadow -fPIC -pthread \n",
            "g++ src/Streams.cc -o tmp/Streams.o -c -MD -Iinclude -O2 -std=c++11 -pedantic -W -Wall -Wshadow -fPIC -pthread \n",
            "g++ src/StringFragmentation.cc -o tmp/StringFragmentation.o -c -MD -Iinclude -O2 -std=c++11 -pedantic -W -Wall -Wshadow -fPIC -pthread \n",
            "g++ src/StringInteractions.cc -o tmp/StringInteractions.o -c -MD -Iinclude -O2 -std=c++11 -pedantic -W -Wall -Wshadow -fPIC -pthread \n",
            "g++ src/StringLength.cc -o tmp/StringLength.o -c -MD -Iinclude -O2 -std=c++11 -pedantic -W -Wall -Wshadow -fPIC -pthread \n",
            "g++ src/SusyCouplings.cc -o tmp/SusyCouplings.o -c -MD -Iinclude -O2 -std=c++11 -pedantic -W -Wall -Wshadow -fPIC -pthread \n",
            "g++ src/SusyLesHouches.cc -o tmp/SusyLesHouches.o -c -MD -Iinclude -O2 -std=c++11 -pedantic -W -Wall -Wshadow -fPIC -pthread \n",
            "g++ src/SusyResonanceWidths.cc -o tmp/SusyResonanceWidths.o -c -MD -Iinclude -O2 -std=c++11 -pedantic -W -Wall -Wshadow -fPIC -pthread \n",
            "g++ src/SusyWidthFunctions.cc -o tmp/SusyWidthFunctions.o -c -MD -Iinclude -O2 -std=c++11 -pedantic -W -Wall -Wshadow -fPIC -pthread \n",
            "g++ src/TauDecays.cc -o tmp/TauDecays.o -c -MD -Iinclude -O2 -std=c++11 -pedantic -W -Wall -Wshadow -fPIC -pthread \n",
            "g++ src/UserHooks.cc -o tmp/UserHooks.o -c -MD -Iinclude -O2 -std=c++11 -pedantic -W -Wall -Wshadow -fPIC -pthread \n",
            "g++ src/Vincia.cc -o tmp/Vincia.o -c -MD -Iinclude -O2 -std=c++11 -pedantic -W -Wall -Wshadow -fPIC -pthread \n",
            "g++ src/VinciaAntennaFunctions.cc -o tmp/VinciaAntennaFunctions.o -c -MD -Iinclude -O2 -std=c++11 -pedantic -W -Wall -Wshadow -fPIC -pthread \n",
            "g++ src/VinciaCommon.cc -o tmp/VinciaCommon.o -c -MD -Iinclude -O2 -std=c++11 -pedantic -W -Wall -Wshadow -fPIC -pthread \n",
            "g++ src/VinciaDiagnostics.cc -o tmp/VinciaDiagnostics.o -c -MD -Iinclude -O2 -std=c++11 -pedantic -W -Wall -Wshadow -fPIC -pthread \n",
            "g++ src/VinciaEW.cc -o tmp/VinciaEW.o -c -MD -Iinclude -O2 -std=c++11 -pedantic -W -Wall -Wshadow -fPIC -pthread \n",
            "g++ src/VinciaFSR.cc -o tmp/VinciaFSR.o -c -MD -Iinclude -O2 -std=c++11 -pedantic -W -Wall -Wshadow -fPIC -pthread \n",
            "g++ src/VinciaHistory.cc -o tmp/VinciaHistory.o -c -MD -Iinclude -O2 -std=c++11 -pedantic -W -Wall -Wshadow -fPIC -pthread \n",
            "g++ src/VinciaISR.cc -o tmp/VinciaISR.o -c -MD -Iinclude -O2 -std=c++11 -pedantic -W -Wall -Wshadow -fPIC -pthread \n",
            "g++ src/VinciaMerging.cc -o tmp/VinciaMerging.o -c -MD -Iinclude -O2 -std=c++11 -pedantic -W -Wall -Wshadow -fPIC -pthread \n",
            "g++ src/VinciaMergingHooks.cc -o tmp/VinciaMergingHooks.o -c -MD -Iinclude -O2 -std=c++11 -pedantic -W -Wall -Wshadow -fPIC -pthread \n",
            "g++ src/VinciaQED.cc -o tmp/VinciaQED.o -c -MD -Iinclude -O2 -std=c++11 -pedantic -W -Wall -Wshadow -fPIC -pthread \n",
            "g++ src/VinciaTrialGenerators.cc -o tmp/VinciaTrialGenerators.o -c -MD -Iinclude -O2 -std=c++11 -pedantic -W -Wall -Wshadow -fPIC -pthread \n",
            "g++ src/VinciaWeights.cc -o tmp/VinciaWeights.o -c -MD -Iinclude -O2 -std=c++11 -pedantic -W -Wall -Wshadow -fPIC -pthread \n",
            "g++ src/Weights.cc -o tmp/Weights.o -c -MD -Iinclude -O2 -std=c++11 -pedantic -W -Wall -Wshadow -fPIC -pthread \n",
            "cp AUTHORS share/Pythia8/AUTHORS\n",
            "cp COPYING share/Pythia8/COPYING\n",
            "cp GUIDELINES share/Pythia8/GUIDELINES\n",
            "cp README share/Pythia8/README\n",
            "cp Makefile.inc share/Pythia8/../../examples/Makefile.inc\n",
            "ar cr lib/libpythia8.a tmp/Analysis.o tmp/Basics.o tmp/BeamParticle.o tmp/BeamRemnants.o tmp/BeamSetup.o tmp/BeamShape.o tmp/BoseEinstein.o tmp/ColourReconnection.o tmp/ColourTracing.o tmp/DeuteronProduction.o tmp/Dire.o tmp/DireBasics.o tmp/DireHistory.o tmp/DireMerging.o tmp/DireMergingHooks.o tmp/DireSpace.o tmp/DireSplitInfo.o tmp/DireSplittingLibrary.o tmp/DireSplittings.o tmp/DireSplittingsEW.o tmp/DireSplittingsQCD.o tmp/DireSplittingsQED.o tmp/DireSplittingsU1new.o tmp/DireTimes.o tmp/DireWeightContainer.o tmp/Event.o tmp/ExternalMEs.o tmp/FJcore.o tmp/FragmentationFlavZpT.o tmp/FragmentationSystems.o tmp/GammaKinematics.o tmp/HIInfo.o tmp/HINucleusModel.o tmp/HISubCollisionModel.o tmp/HadronLevel.o tmp/HadronWidths.o tmp/HardDiffraction.o tmp/HeavyIons.o tmp/HelicityBasics.o tmp/HelicityMatrixElements.o tmp/HiddenValleyFragmentation.o tmp/History.o tmp/Info.o tmp/JunctionSplitting.o tmp/LHEF3.o tmp/LesHouches.o tmp/Logger.o tmp/LowEnergyProcess.o tmp/MathTools.o tmp/Merging.o tmp/MergingHooks.o tmp/MiniStringFragmentation.o tmp/MultipartonInteractions.o tmp/NucleonExcitations.o tmp/ParticleData.o tmp/ParticleDecays.o tmp/PartonDistributions.o tmp/PartonLevel.o tmp/PartonSystems.o tmp/PartonVertex.o tmp/PhaseSpace.o tmp/PhysicsBase.o tmp/Plugins.o tmp/ProcessContainer.o tmp/ProcessLevel.o tmp/Pythia.o tmp/PythiaParallel.o tmp/PythiaStdlib.o tmp/RHadrons.o tmp/ResonanceDecays.o tmp/ResonanceWidths.o tmp/ResonanceWidthsDM.o tmp/Ropewalk.o tmp/SLHAinterface.o tmp/Settings.o tmp/ShowerModel.o tmp/SigmaCompositeness.o tmp/SigmaDM.o tmp/SigmaEW.o tmp/SigmaExtraDim.o tmp/SigmaGeneric.o tmp/SigmaHiggs.o tmp/SigmaLeftRightSym.o tmp/SigmaLeptoquark.o tmp/SigmaLowEnergy.o tmp/SigmaNewGaugeBosons.o tmp/SigmaOnia.o tmp/SigmaProcess.o tmp/SigmaQCD.o tmp/SigmaSUSY.o tmp/SigmaTotal.o tmp/SimpleSpaceShower.o tmp/SimpleTimeShower.o tmp/SimpleWeakShowerMEs.o tmp/SplittingsOnia.o tmp/StandardModel.o tmp/Streams.o tmp/StringFragmentation.o tmp/StringInteractions.o tmp/StringLength.o tmp/SusyCouplings.o tmp/SusyLesHouches.o tmp/SusyResonanceWidths.o tmp/SusyWidthFunctions.o tmp/TauDecays.o tmp/UserHooks.o tmp/Vincia.o tmp/VinciaAntennaFunctions.o tmp/VinciaCommon.o tmp/VinciaDiagnostics.o tmp/VinciaEW.o tmp/VinciaFSR.o tmp/VinciaHistory.o tmp/VinciaISR.o tmp/VinciaMerging.o tmp/VinciaMergingHooks.o tmp/VinciaQED.o tmp/VinciaTrialGenerators.o tmp/VinciaWeights.o tmp/Weights.o\n",
            "g++ tmp/Analysis.o tmp/Basics.o tmp/BeamParticle.o tmp/BeamRemnants.o tmp/BeamSetup.o tmp/BeamShape.o tmp/BoseEinstein.o tmp/ColourReconnection.o tmp/ColourTracing.o tmp/DeuteronProduction.o tmp/Dire.o tmp/DireBasics.o tmp/DireHistory.o tmp/DireMerging.o tmp/DireMergingHooks.o tmp/DireSpace.o tmp/DireSplitInfo.o tmp/DireSplittingLibrary.o tmp/DireSplittings.o tmp/DireSplittingsEW.o tmp/DireSplittingsQCD.o tmp/DireSplittingsQED.o tmp/DireSplittingsU1new.o tmp/DireTimes.o tmp/DireWeightContainer.o tmp/Event.o tmp/ExternalMEs.o tmp/FJcore.o tmp/FragmentationFlavZpT.o tmp/FragmentationSystems.o tmp/GammaKinematics.o tmp/HIInfo.o tmp/HINucleusModel.o tmp/HISubCollisionModel.o tmp/HadronLevel.o tmp/HadronWidths.o tmp/HardDiffraction.o tmp/HeavyIons.o tmp/HelicityBasics.o tmp/HelicityMatrixElements.o tmp/HiddenValleyFragmentation.o tmp/History.o tmp/Info.o tmp/JunctionSplitting.o tmp/LHEF3.o tmp/LesHouches.o tmp/Logger.o tmp/LowEnergyProcess.o tmp/MathTools.o tmp/Merging.o tmp/MergingHooks.o tmp/MiniStringFragmentation.o tmp/MultipartonInteractions.o tmp/NucleonExcitations.o tmp/ParticleData.o tmp/ParticleDecays.o tmp/PartonDistributions.o tmp/PartonLevel.o tmp/PartonSystems.o tmp/PartonVertex.o tmp/PhaseSpace.o tmp/PhysicsBase.o tmp/Plugins.o tmp/ProcessContainer.o tmp/ProcessLevel.o tmp/Pythia.o tmp/PythiaParallel.o tmp/PythiaStdlib.o tmp/RHadrons.o tmp/ResonanceDecays.o tmp/ResonanceWidths.o tmp/ResonanceWidthsDM.o tmp/Ropewalk.o tmp/SLHAinterface.o tmp/Settings.o tmp/ShowerModel.o tmp/SigmaCompositeness.o tmp/SigmaDM.o tmp/SigmaEW.o tmp/SigmaExtraDim.o tmp/SigmaGeneric.o tmp/SigmaHiggs.o tmp/SigmaLeftRightSym.o tmp/SigmaLeptoquark.o tmp/SigmaLowEnergy.o tmp/SigmaNewGaugeBosons.o tmp/SigmaOnia.o tmp/SigmaProcess.o tmp/SigmaQCD.o tmp/SigmaSUSY.o tmp/SigmaTotal.o tmp/SimpleSpaceShower.o tmp/SimpleTimeShower.o tmp/SimpleWeakShowerMEs.o tmp/SplittingsOnia.o tmp/StandardModel.o tmp/Streams.o tmp/StringFragmentation.o tmp/StringInteractions.o tmp/StringLength.o tmp/SusyCouplings.o tmp/SusyLesHouches.o tmp/SusyResonanceWidths.o tmp/SusyWidthFunctions.o tmp/TauDecays.o tmp/UserHooks.o tmp/Vincia.o tmp/VinciaAntennaFunctions.o tmp/VinciaCommon.o tmp/VinciaDiagnostics.o tmp/VinciaEW.o tmp/VinciaFSR.o tmp/VinciaHistory.o tmp/VinciaISR.o tmp/VinciaMerging.o tmp/VinciaMergingHooks.o tmp/VinciaQED.o tmp/VinciaTrialGenerators.o tmp/VinciaWeights.o tmp/Weights.o -o lib/libpythia8.so -Iinclude -O2 -std=c++11 -pedantic -W -Wall -Wshadow -fPIC -pthread -shared -Wl,-soname,libpythia8.so\\\n",
            "  -Wl,-rpath,../lib:/content/ML_Tutorial_2025/software/pythia8312/lib -ldl  -Wl,--disable-new-dtags\n",
            "cd plugins/python && make\n",
            "make[1]: Entering directory '/content/ML_Tutorial_2025/software/pythia8312/plugins/python'\n",
            "g++ src/version.cpp -o tmp/version -I/usr/include/python3.11 -I/usr/include/python3.11\n",
            "g++ src/Analysis.cpp -o tmp/Analysis.o -c -MD -O2 -std=c++11 -pedantic -W -Wall -Wshadow -fPIC -pthread -Iinclude -Iinclude/2.10.4 -I/usr/include/python3.11 -I/usr/include/python3.11 -w -fpermissive\n",
            "g++ src/Basics.cpp -o tmp/Basics.o -c -MD -O2 -std=c++11 -pedantic -W -Wall -Wshadow -fPIC -pthread -Iinclude -Iinclude/2.10.4 -I/usr/include/python3.11 -I/usr/include/python3.11 -w -fpermissive\n",
            "g++ src/Basics_1.cpp -o tmp/Basics_1.o -c -MD -O2 -std=c++11 -pedantic -W -Wall -Wshadow -fPIC -pthread -Iinclude -Iinclude/2.10.4 -I/usr/include/python3.11 -I/usr/include/python3.11 -w -fpermissive\n",
            "g++ src/Basics_2.cpp -o tmp/Basics_2.o -c -MD -O2 -std=c++11 -pedantic -W -Wall -Wshadow -fPIC -pthread -Iinclude -Iinclude/2.10.4 -I/usr/include/python3.11 -I/usr/include/python3.11 -w -fpermissive\n",
            "g++ src/BeamShape.cpp -o tmp/BeamShape.o -c -MD -O2 -std=c++11 -pedantic -W -Wall -Wshadow -fPIC -pthread -Iinclude -Iinclude/2.10.4 -I/usr/include/python3.11 -I/usr/include/python3.11 -w -fpermissive\n",
            "g++ src/Event.cpp -o tmp/Event.o -c -MD -O2 -std=c++11 -pedantic -W -Wall -Wshadow -fPIC -pthread -Iinclude -Iinclude/2.10.4 -I/usr/include/python3.11 -I/usr/include/python3.11 -w -fpermissive\n",
            "g++ src/Event_1.cpp -o tmp/Event_1.o -c -MD -O2 -std=c++11 -pedantic -W -Wall -Wshadow -fPIC -pthread -Iinclude -Iinclude/2.10.4 -I/usr/include/python3.11 -I/usr/include/python3.11 -w -fpermissive\n",
            "g++ src/Info.cpp -o tmp/Info.o -c -MD -O2 -std=c++11 -pedantic -W -Wall -Wshadow -fPIC -pthread -Iinclude -Iinclude/2.10.4 -I/usr/include/python3.11 -I/usr/include/python3.11 -w -fpermissive\n",
            "g++ src/ParticleData.cpp -o tmp/ParticleData.o -c -MD -O2 -std=c++11 -pedantic -W -Wall -Wshadow -fPIC -pthread -Iinclude -Iinclude/2.10.4 -I/usr/include/python3.11 -I/usr/include/python3.11 -w -fpermissive\n",
            "g++ src/ParticleData_1.cpp -o tmp/ParticleData_1.o -c -MD -O2 -std=c++11 -pedantic -W -Wall -Wshadow -fPIC -pthread -Iinclude -Iinclude/2.10.4 -I/usr/include/python3.11 -I/usr/include/python3.11 -w -fpermissive\n",
            "g++ src/Pythia.cpp -o tmp/Pythia.o -c -MD -O2 -std=c++11 -pedantic -W -Wall -Wshadow -fPIC -pthread -Iinclude -Iinclude/2.10.4 -I/usr/include/python3.11 -I/usr/include/python3.11 -w -fpermissive\n",
            "g++ src/PythiaParallel.cpp -o tmp/PythiaParallel.o -c -MD -O2 -std=c++11 -pedantic -W -Wall -Wshadow -fPIC -pthread -Iinclude -Iinclude/2.10.4 -I/usr/include/python3.11 -I/usr/include/python3.11 -w -fpermissive\n",
            "g++ src/Settings.cpp -o tmp/Settings.o -c -MD -O2 -std=c++11 -pedantic -W -Wall -Wshadow -fPIC -pthread -Iinclude -Iinclude/2.10.4 -I/usr/include/python3.11 -I/usr/include/python3.11 -w -fpermissive\n",
            "g++ src/SigmaProcess.cpp -o tmp/SigmaProcess.o -c -MD -O2 -std=c++11 -pedantic -W -Wall -Wshadow -fPIC -pthread -Iinclude -Iinclude/2.10.4 -I/usr/include/python3.11 -I/usr/include/python3.11 -w -fpermissive\n",
            "g++ src/TimeShower.cpp -o tmp/TimeShower.o -c -MD -O2 -std=c++11 -pedantic -W -Wall -Wshadow -fPIC -pthread -Iinclude -Iinclude/2.10.4 -I/usr/include/python3.11 -I/usr/include/python3.11 -w -fpermissive\n",
            "g++ src/UserHooks.cpp -o tmp/UserHooks.o -c -MD -O2 -std=c++11 -pedantic -W -Wall -Wshadow -fPIC -pthread -Iinclude -Iinclude/2.10.4 -I/usr/include/python3.11 -I/usr/include/python3.11 -w -fpermissive\n",
            "g++ src/exception.cpp -o tmp/exception.o -c -MD -O2 -std=c++11 -pedantic -W -Wall -Wshadow -fPIC -pthread -Iinclude -Iinclude/2.10.4 -I/usr/include/python3.11 -I/usr/include/python3.11 -w -fpermissive\n",
            "g++ src/postypes.cpp -o tmp/postypes.o -c -MD -O2 -std=c++11 -pedantic -W -Wall -Wshadow -fPIC -pthread -Iinclude -Iinclude/2.10.4 -I/usr/include/python3.11 -I/usr/include/python3.11 -w -fpermissive\n",
            "g++ src/pythia8.cpp -o tmp/pythia8.o -c -MD -O2 -std=c++11 -pedantic -W -Wall -Wshadow -fPIC -pthread -Iinclude -Iinclude/2.10.4 -I/usr/include/python3.11 -I/usr/include/python3.11 -w -fpermissive\n",
            "g++ src/stdexcept.cpp -o tmp/stdexcept.o -c -MD -O2 -std=c++11 -pedantic -W -Wall -Wshadow -fPIC -pthread -Iinclude -Iinclude/2.10.4 -I/usr/include/python3.11 -I/usr/include/python3.11 -w -fpermissive\n",
            "g++ src/stl_vector.cpp -o tmp/stl_vector.o -c -MD -O2 -std=c++11 -pedantic -W -Wall -Wshadow -fPIC -pthread -Iinclude -Iinclude/2.10.4 -I/usr/include/python3.11 -I/usr/include/python3.11 -w -fpermissive\n",
            "g++ src/version.cpp -o tmp/version.o -c -MD -O2 -std=c++11 -pedantic -W -Wall -Wshadow -fPIC -pthread -Iinclude -Iinclude/2.10.4 -I/usr/include/python3.11 -I/usr/include/python3.11 -w -fpermissive\n",
            "g++ tmp/Analysis.o tmp/Basics.o tmp/Basics_1.o tmp/Basics_2.o tmp/BeamShape.o tmp/Event.o tmp/Event_1.o tmp/Info.o tmp/ParticleData.o tmp/ParticleData_1.o tmp/Pythia.o tmp/PythiaParallel.o tmp/Settings.o tmp/SigmaProcess.o tmp/TimeShower.o tmp/UserHooks.o tmp/exception.o tmp/postypes.o tmp/pythia8.o tmp/stdexcept.o tmp/stl_vector.o tmp/version.o -o ../../lib/pythia8.so -O2 -std=c++11 -pedantic -W -Wall -Wshadow -fPIC -pthread -shared\\\n",
            " -Wl,-soname,pythia8.so -Wl,-rpath,../../lib -ldl  -L../../lib\\\n",
            " -Wl,-rpath,/content/ML_Tutorial_2025/software/pythia8312/lib -lpythia8 -Wl,-undefined,dynamic_lookup\n",
            "make[1]: Leaving directory '/content/ML_Tutorial_2025/software/pythia8312/plugins/python'\n",
            "/content/ML_Tutorial_2025/notebooks\n",
            "Collecting awkward\n",
            "  Downloading awkward-2.8.4-py3-none-any.whl.metadata (7.0 kB)\n",
            "Collecting awkward-cpp==46 (from awkward)\n",
            "  Downloading awkward_cpp-46-cp311-cp311-manylinux_2_17_x86_64.manylinux2014_x86_64.whl.metadata (2.1 kB)\n",
            "Requirement already satisfied: fsspec>=2022.11.0 in /usr/local/lib/python3.11/dist-packages (from awkward) (2025.3.2)\n",
            "Requirement already satisfied: importlib-metadata>=4.13.0 in /usr/local/lib/python3.11/dist-packages (from awkward) (8.7.0)\n",
            "Requirement already satisfied: numpy>=1.18.0 in /usr/local/lib/python3.11/dist-packages (from awkward) (2.0.2)\n",
            "Requirement already satisfied: packaging in /usr/local/lib/python3.11/dist-packages (from awkward) (24.2)\n",
            "Requirement already satisfied: zipp>=3.20 in /usr/local/lib/python3.11/dist-packages (from importlib-metadata>=4.13.0->awkward) (3.23.0)\n",
            "Downloading awkward-2.8.4-py3-none-any.whl (886 kB)\n",
            "\u001b[2K   \u001b[90m━━━━━━━━━━━━━━━━━━━━━━━━━━━━━━━━━━━━━━━━\u001b[0m \u001b[32m886.3/886.3 kB\u001b[0m \u001b[31m11.1 MB/s\u001b[0m eta \u001b[36m0:00:00\u001b[0m\n",
            "\u001b[?25hDownloading awkward_cpp-46-cp311-cp311-manylinux_2_17_x86_64.manylinux2014_x86_64.whl (638 kB)\n",
            "\u001b[2K   \u001b[90m━━━━━━━━━━━━━━━━━━━━━━━━━━━━━━━━━━━━━━━━\u001b[0m \u001b[32m638.7/638.7 kB\u001b[0m \u001b[31m35.8 MB/s\u001b[0m eta \u001b[36m0:00:00\u001b[0m\n",
            "\u001b[?25hInstalling collected packages: awkward-cpp, awkward\n",
            "Successfully installed awkward-2.8.4 awkward-cpp-46\n"
          ]
        }
      ],
      "source": [
        "%cd ML_Tutorial_2025/software\n",
        "!curl -O https://www.pythia.org/download/pythia83/pythia8312.tgz\n",
        "!tar xfz pythia8312.tgz\n",
        "%cd pythia8312\n",
        "!./configure --with-python-config=/usr/bin/python3.11-config\n",
        "!make -j4\n",
        "%cd ../../notebooks\n",
        "!pip install awkward"
      ]
    },
    {
      "cell_type": "code",
      "execution_count": 3,
      "id": "cad5dea5",
      "metadata": {
        "id": "cad5dea5"
      },
      "outputs": [],
      "source": [
        "# Add the necessary pythia build paths to the python paths\n",
        "import sys\n",
        "cfg = open(\"../software/pythia8312/Makefile.inc\")  # Read necessary paths from this file\n",
        "lib = \"../software/lib\"\n",
        "for line in cfg:\n",
        "    if line.startswith(\"PREFIX_LIB=\"): lib = line[11:-1]; break  # Find build paths\n",
        "sys.path.insert(0, lib)   # Add build paths to system path"
      ]
    },
    {
      "cell_type": "code",
      "execution_count": 4,
      "id": "57d63096-67ac-40ab-8f30-7951ca58a31d",
      "metadata": {
        "id": "57d63096-67ac-40ab-8f30-7951ca58a31d"
      },
      "outputs": [],
      "source": [
        "# Import Pythia8\n",
        "import pythia8\n",
        "\n",
        "# Import Tensor Libs\n",
        "import numpy as np\n",
        "import awkward as ak\n",
        "\n",
        "# Import ML Libs\n",
        "import torch\n",
        "import torch.nn as nn\n",
        "import torch.nn.functional as F\n",
        "import torch.optim as optim\n",
        "from torch.utils.data import Dataset, DataLoader\n",
        "\n",
        "# Import Plotting Libs\n",
        "import matplotlib.pyplot as plt"
      ]
    },
    {
      "cell_type": "code",
      "execution_count": 5,
      "id": "7c4f783c-8271-4bb4-a3db-eb7afe1a810d",
      "metadata": {
        "id": "7c4f783c-8271-4bb4-a3db-eb7afe1a810d",
        "outputId": "57c20fd3-8f22-4262-e623-f73fc57b9a2c",
        "colab": {
          "base_uri": "https://localhost:8080/"
        }
      },
      "outputs": [
        {
          "output_type": "execute_result",
          "data": {
            "text/plain": [
              "True"
            ]
          },
          "metadata": {},
          "execution_count": 5
        }
      ],
      "source": [
        "pythia_sig = pythia8.Pythia()                  # Define a pythia8.Pythia() object\n",
        "pythia_sig.readString(\"Beams:eCM = 14000.\")    # Beam energy is 14TeV\n",
        "pythia_sig.readString(\"Beams:idA = 2212\")      # Incoming particle 1 is proton\n",
        "pythia_sig.readString(\"Beams:idB = 2212\")      # Incoming particle 2 is proton\n",
        "pythia_sig.readString(\"Top:qqbar2ttbar = on\")  # Turn on all top processes\n",
        "pythia_sig.init()                              # Initialize object with user defined settings"
      ]
    },
    {
      "cell_type": "code",
      "execution_count": 6,
      "id": "f012c032-2432-4859-ad3c-a876bd2d0e5b",
      "metadata": {
        "id": "f012c032-2432-4859-ad3c-a876bd2d0e5b",
        "outputId": "628699b9-1a60-4b0b-8baf-95da13a507ec",
        "colab": {
          "base_uri": "https://localhost:8080/"
        }
      },
      "outputs": [
        {
          "output_type": "execute_result",
          "data": {
            "text/plain": [
              "True"
            ]
          },
          "metadata": {},
          "execution_count": 6
        }
      ],
      "source": [
        "pythia_bkg = pythia8.Pythia()                  # Define a pythia8.Pythia() object\n",
        "pythia_bkg.readString(\"Beams:eCM = 14000.\")    # Beam enegery is 14TeV\n",
        "pythia_bkg.readString(\"Beams:idA = 2212\")      # Incoming particle 1 is proton\n",
        "pythia_bkg.readString(\"Beams:idB = 2212\")      # Incoming particle 2 is proton\n",
        "pythia_bkg.readString(\"WeakDoubleBoson:ffbar2WW = on\")      # Turn on all Diboson process\n",
        "pythia_bkg.init()                              # Initialize object with user defined settings"
      ]
    },
    {
      "cell_type": "code",
      "execution_count": 7,
      "id": "7cd0a59a-e26b-4da9-bd07-28cf9fa23811",
      "metadata": {
        "id": "7cd0a59a-e26b-4da9-bd07-28cf9fa23811"
      },
      "outputs": [],
      "source": [
        "num_events = 1000"
      ]
    },
    {
      "cell_type": "code",
      "execution_count": 8,
      "id": "fa7eae0c-f7b2-4c66-b488-c671b8f980c4",
      "metadata": {
        "id": "fa7eae0c-f7b2-4c66-b488-c671b8f980c4",
        "outputId": "62f027ae-5d67-4daf-ffd0-281ec6d86233",
        "colab": {
          "base_uri": "https://localhost:8080/"
        }
      },
      "outputs": [
        {
          "output_type": "stream",
          "name": "stdout",
          "text": [
            "Done Generating Signal:  1000  /  1000\n",
            "Converting to Awkward Array...\n",
            "Done Converting to Awkward Array\n"
          ]
        }
      ],
      "source": [
        "# Begin event loop. Generate event. Skip if error.\n",
        "sig_events = []\n",
        "for iEvent in range(num_events):           # Loop through events\n",
        "    event_sig = []\n",
        "    if iEvent%5==0:\n",
        "        print(\"Generating Signal: \", iEvent, \" / \", num_events, end=\"\\r\")\n",
        "    if not pythia_sig.next(): continue     # Standard pythia syntax to trigger next event generation\n",
        "    for prt in pythia_sig.event:           # Loop through particles in each event\n",
        "        if prt.isFinal():                  # Check if particle is final state particle and store pT, eta, phi\n",
        "            event_sig.append([prt.pT(),prt.eta(),prt.phi()])\n",
        "    sig_events.append(event_sig)\n",
        "print(\"Done Generating Signal: \", num_events, \" / \", num_events)\n",
        "\n",
        "print(\"Converting to Awkward Array...\")\n",
        "sig_events = ak.Array(sig_events)\n",
        "print(\"Done Converting to Awkward Array\")"
      ]
    },
    {
      "cell_type": "code",
      "execution_count": 9,
      "id": "05bd407d-bdec-48a6-be9f-68959e9bb4d9",
      "metadata": {
        "id": "05bd407d-bdec-48a6-be9f-68959e9bb4d9",
        "outputId": "4fd955af-f302-4331-f471-5474ae9f1acf",
        "colab": {
          "base_uri": "https://localhost:8080/"
        }
      },
      "outputs": [
        {
          "output_type": "stream",
          "name": "stdout",
          "text": [
            "Done Generating Background:  1000  /  1000\n",
            "Converting to Awkward Array...\n",
            "Done Converting to Awkward Array\n"
          ]
        }
      ],
      "source": [
        "# Begin event loop. Generate event. Skip if error.\n",
        "bkg_events = []\n",
        "for iEvent in range(num_events):          # Loop through events\n",
        "    event_bkg = []\n",
        "    if iEvent%5==0:\n",
        "        print(\"Generating Background: \", iEvent, \" / \", num_events, end=\"\\r\")\n",
        "    if not pythia_bkg.next(): continue    # Standard pythia syntax to trigger enxt event generation\n",
        "    for prt in pythia_bkg.event:          # Loop through particles in each event\n",
        "        if prt.isFinal():                 # Chekc if particle is final stat particle and store pT, eta, phi\n",
        "            event_bkg.append([prt.pT(),prt.eta(),prt.phi()])\n",
        "    bkg_events.append(event_bkg)\n",
        "print(\"Done Generating Background: \", num_events, \" / \", num_events)\n",
        "\n",
        "print(\"Converting to Awkward Array...\")\n",
        "bkg_events = ak.Array(bkg_events)\n",
        "print(\"Done Converting to Awkward Array\")"
      ]
    },
    {
      "cell_type": "code",
      "execution_count": 10,
      "id": "1b9a2eb9-7a67-4b5e-92dd-c42bc599d323",
      "metadata": {
        "id": "1b9a2eb9-7a67-4b5e-92dd-c42bc599d323",
        "outputId": "a0d37840-6a65-4932-cbd9-78c60b139b43",
        "colab": {
          "base_uri": "https://localhost:8080/",
          "height": 452
        }
      },
      "outputs": [
        {
          "output_type": "display_data",
          "data": {
            "text/plain": [
              "<Figure size 640x480 with 1 Axes>"
            ],
            "image/png": "[encoded data removed]"
          },
          "metadata": {}
        }
      ],
      "source": [
        "plt.title(\"Num FS Particles per Event\")\n",
        "plt.hist(ak.num(sig_events),histtype='step',color='r',range=(0,1000),bins=30,label='sig')\n",
        "plt.hist(ak.num(bkg_events),histtype='step',color='b',range=(0,1000),bins=30,label='bkg')\n",
        "plt.legend()\n",
        "plt.show()"
      ]
    },
    {
      "cell_type": "code",
      "execution_count": null,
      "id": "e255a120-b358-40dd-bfe2-d0d96083af0b",
      "metadata": {
        "id": "e255a120-b358-40dd-bfe2-d0d96083af0b"
      },
      "outputs": [],
      "source": [
        "# Plot pT for signal and background\n",
        "plt.title(\"Particle p$\\mathregular{_{T}}$\")\n",
        "plt.hist(ak.ravel(sig_events[:,:,0]),bins=40,range=(0,250),histtype='step',label='sig',color='r',density=True)\n",
        "plt.hist(ak.ravel(bkg_events[:,:,0]),bins=40,range=(0,250),histtype='step',label='bkg',color='b',density=True)\n",
        "plt.xlabel('GeV',loc='right')\n",
        "plt.yscale('log')\n",
        "plt.legend()\n",
        "plt.show()\n",
        "\n",
        "# Plot eta for signal and background\n",
        "plt.title(\"Particle \\u03B7\")\n",
        "plt.hist(ak.ravel(sig_events[:,:,1]),bins=30,range=(-10,10),histtype='step',label='sig',color='r',density=True)\n",
        "plt.hist(ak.ravel(bkg_events[:,:,1]),bins=30,range=(-10,10),histtype='step',label='bkg',color='b',density=True)\n",
        "plt.legend()\n",
        "plt.show()\n",
        "\n",
        "# Plot phi for signal and background\n",
        "plt.title(\"Particle \\u03D5\")\n",
        "plt.hist(ak.ravel(sig_events[:,:,2]),bins=16,range=(-4,4),histtype='step',label='sig',color='r',density=True)\n",
        "plt.hist(ak.ravel(bkg_events[:,:,2]),bins=16,range=(-4,4),histtype='step',label='bkg',color='b',density=True)\n",
        "plt.legend()\n",
        "plt.show()"
      ]
    },
    {
      "cell_type": "code",
      "execution_count": null,
      "id": "cb98fbf9-0b03-40b0-8ca3-de846588c48c",
      "metadata": {
        "id": "cb98fbf9-0b03-40b0-8ca3-de846588c48c"
      },
      "outputs": [],
      "source": [
        "sorted_args = ak.argsort(sig_events[:,:,0], ascending=False)\n",
        "sorted_sig = sig_events[sorted_args]\n",
        "sig_labels = np.ones((len(sorted_sig),1))\n",
        "\n",
        "sorted_args = ak.argsort(bkg_events[:,:,0], ascending=False)\n",
        "sorted_bkg = bkg_events[sorted_args]\n",
        "bkg_labels = np.zeros((len(sorted_bkg),1))\n",
        "\n",
        "combined_data = ak.concatenate([sorted_sig,sorted_bkg], axis=0)\n",
        "combined_labels = ak.concatenate([sig_labels,bkg_labels], axis=0)\n",
        "\n",
        "p = np.random.permutation(len(combined_data))\n",
        "combined_data = combined_data[p]\n",
        "combined_labels = combined_labels[p]"
      ]
    },
    {
      "cell_type": "code",
      "execution_count": null,
      "id": "ddd25bc9-3e71-4dca-ba5c-58f56f01a76d",
      "metadata": {
        "id": "ddd25bc9-3e71-4dca-ba5c-58f56f01a76d"
      },
      "outputs": [],
      "source": [
        "padding_particle_cutoff = 100"
      ]
    },
    {
      "cell_type": "code",
      "execution_count": null,
      "id": "257070d0-d89c-420f-9b19-e0deef5b0ffc",
      "metadata": {
        "id": "257070d0-d89c-420f-9b19-e0deef5b0ffc"
      },
      "outputs": [],
      "source": [
        "padded_data = []\n",
        "for i, event in enumerate(combined_data):\n",
        "    if i%5==0:\n",
        "        print(\"Padding Dataset: \", i, \" / \", len(combined_data), end=\"\\r\")\n",
        "    event_data = []\n",
        "    for j in range(padding_particle_cutoff):\n",
        "        if j<len(event):\n",
        "            event_data.append(event[j])\n",
        "        else:\n",
        "            event_data.append([0,0,0])\n",
        "    padded_data.append(event_data)\n",
        "print(\"Done Padding Dataset: \", len(combined_data), \" / \", len(combined_data))\n",
        "\n",
        "print(\"Converting to Awkward Array...\")\n",
        "padded_data = ak.Array(padded_data)\n",
        "print(\"Done Converting to Awkward Array\")"
      ]
    },
    {
      "cell_type": "code",
      "execution_count": null,
      "id": "01b313a4-fe1c-4150-bb10-232f6e4c864d",
      "metadata": {
        "id": "01b313a4-fe1c-4150-bb10-232f6e4c864d"
      },
      "outputs": [],
      "source": [
        "sig = combined_labels==1\n",
        "bkg = combined_labels==0\n",
        "\n",
        "# Plot pT for signal and background\n",
        "plt.title(\"Particle p$\\mathregular{_{T}}$\")\n",
        "plt.hist(ak.ravel(padded_data[sig][:,0]),bins=40,range=(0,250),histtype='step',label='sig',color='r',density=True)\n",
        "plt.hist(ak.ravel(padded_data[bkg][:,0]),bins=40,range=(0,250),histtype='step',label='bkg',color='b',density=True)\n",
        "plt.xlabel('GeV',loc='right')\n",
        "plt.yscale('log')\n",
        "plt.legend()\n",
        "plt.show()\n",
        "\n",
        "# Plot eta for signal and background\n",
        "plt.title(\"Particle \\u03B7\")\n",
        "plt.hist(ak.ravel(padded_data[sig][:,1]),bins=40,range=(-10,10),histtype='step',label='sig',color='r',density=True)\n",
        "plt.hist(ak.ravel(padded_data[bkg][:,1]),bins=40,range=(-10,10),histtype='step',label='bkg',color='b',density=True)\n",
        "plt.yscale('log')\n",
        "plt.legend()\n",
        "plt.show()\n",
        "\n",
        "# Plot phi for signal and background\n",
        "plt.title(\"Particle \\u03D5\")\n",
        "plt.hist(ak.ravel(padded_data[sig][:,2]),bins=40,range=(-4,4),histtype='step',label='sig',color='r',density=True)\n",
        "plt.hist(ak.ravel(padded_data[bkg][:,2]),bins=40,range=(-4,4),histtype='step',label='bkg',color='b',density=True)\n",
        "plt.yscale('log')\n",
        "plt.legend()\n",
        "plt.show()"
      ]
    },
    {
      "cell_type": "code",
      "execution_count": null,
      "id": "2e3f081a",
      "metadata": {
        "id": "2e3f081a"
      },
      "outputs": [],
      "source": [
        "class ParticleDataset(Dataset):\n",
        "    def __init__(self, data, labels, device):\n",
        "        self.data = torch.tensor(data, dtype=torch.float32).to(device)\n",
        "        self.labels = torch.tensor(labels, dtype=torch.float32).to(device)\n",
        "\n",
        "    def __len__(self):\n",
        "        return len(self.data)\n",
        "\n",
        "    def __getitem__(self, idx):\n",
        "        event = self.data[idx]\n",
        "        label = self.labels[idx]\n",
        "        return event, label"
      ]
    },
    {
      "cell_type": "code",
      "execution_count": null,
      "id": "0e9b68a7",
      "metadata": {
        "id": "0e9b68a7"
      },
      "outputs": [],
      "source": [
        "# Check if GPU is available, if not use cpu\n",
        "print(\"GPU Available: \", torch.cuda.is_available())\n",
        "device = torch.device(\"cuda:0\" if torch.cuda.is_available() else \"cpu\")"
      ]
    },
    {
      "cell_type": "code",
      "execution_count": null,
      "id": "a1dfad1a-b202-4b25-9eec-edadb4ca0da5",
      "metadata": {
        "id": "a1dfad1a-b202-4b25-9eec-edadb4ca0da5"
      },
      "outputs": [],
      "source": [
        "train_split = int(0.7*len(padded_data))\n",
        "test_split = int(0.75*len(padded_data))"
      ]
    },
    {
      "cell_type": "code",
      "execution_count": null,
      "id": "d840ef74-3508-43e4-afa0-21437e4b79c3",
      "metadata": {
        "id": "d840ef74-3508-43e4-afa0-21437e4b79c3"
      },
      "outputs": [],
      "source": [
        "train_dataset = ParticleDataset(padded_data[0:train_split], combined_labels[0:train_split], device)\n",
        "val_dataset = ParticleDataset(padded_data[train_split:test_split], combined_labels[train_split:test_split], device)\n",
        "test_dataset = ParticleDataset(padded_data[test_split:], combined_labels[test_split:], device)\n",
        "\n",
        "torch.save(train_dataset, \"../datasets/train_dataset.pt\")\n",
        "torch.save(val_dataset, \"../datasets/val_dataset.pt\")\n",
        "torch.save(test_dataset, \"../datasets/test_dataset.pt\")"
      ]
    },
    {
      "cell_type": "code",
      "execution_count": null,
      "id": "6df69853",
      "metadata": {
        "id": "6df69853"
      },
      "outputs": [],
      "source": [
        "train_dataset = torch.load(\"../datasets/train_dataset_700k.pt\", weights_only=False, map_location=device)\n",
        "val_dataset = torch.load(\"../datasets/val_dataset_50k.pt\", weights_only=False, map_location=device)\n",
        "test_dataset = torch.load(\"../datasets/test_dataset_250k.pt\", weights_only=False, map_location=device)\n",
        "\n",
        "train_dataloader = DataLoader(train_dataset, batch_size=1024, shuffle=True)\n",
        "val_dataloader = DataLoader(val_dataset, batch_size=1024, shuffle=True)\n",
        "test_dataloader = DataLoader(test_dataset, batch_size=1024, shuffle=True)"
      ]
    },
    {
      "cell_type": "code",
      "execution_count": null,
      "id": "0462af9c",
      "metadata": {
        "id": "0462af9c"
      },
      "outputs": [],
      "source": [
        "for inputs, labels in train_dataloader:\n",
        "    print(\"Batch shape:\", inputs.shape)\n",
        "    print(\"Labels shape:\", labels.shape)\n",
        "    padding_particle_cutoff=inputs.shape[1]\n",
        "    break"
      ]
    },
    {
      "cell_type": "code",
      "execution_count": null,
      "id": "f810f945",
      "metadata": {
        "id": "f810f945"
      },
      "outputs": [],
      "source": [
        "# Define the Model\n",
        "class MultiLayerPerceptron(nn.Module):\n",
        "    '''\n",
        "    A DL model with customizable layers and nodes.\n",
        "    '''\n",
        "    def __init__(self, in_dim, hidden_dim, num_layers, out_dim):\n",
        "        super(MultiLayerPerceptron, self).__init__()\n",
        "        self.layers = nn.ModuleList()\n",
        "        self.layers.append(nn.Linear(in_dim, hidden_dim))\n",
        "        hidden_layers = [hidden_dim]*num_layers\n",
        "        for i in range(num_layers):\n",
        "            self.layers.append(nn.Linear(hidden_dim, hidden_dim))\n",
        "        self.layers.append(nn.Linear(hidden_dim, 1))\n",
        "\n",
        "    def forward(self, x):\n",
        "        x = torch.flatten(x, start_dim=1)\n",
        "        for layer in self.layers[:-1]:\n",
        "            x = F.gelu(layer(x))\n",
        "        x = F.sigmoid(self.layers[-1](x))\n",
        "        return x"
      ]
    },
    {
      "cell_type": "code",
      "execution_count": null,
      "id": "ecaae344",
      "metadata": {
        "id": "ecaae344"
      },
      "outputs": [],
      "source": [
        "# Define a class that inherits from torch.nn.Module\n",
        "class DeepSets(nn.Module):\n",
        "    '''\n",
        "    A DeepSets model that performs graph level classification on a dense graph.\n",
        "    '''\n",
        "    def __init__(self, in_dim, hidden_dim, out_dim):\n",
        "        super(DeepSets, self).__init__()\n",
        "        self.init = nn.Linear(in_dim, hidden_dim)\n",
        "        self.Messages = nn.Linear(hidden_dim,hidden_dim)\n",
        "        self.PostProcess = nn.Linear(hidden_dim,hidden_dim)\n",
        "        self.Classification = nn.Linear(hidden_dim,out_dim)\n",
        "    def forward(self, data):\n",
        "        track_embedding = F.gelu(self.init(data))\n",
        "        messages = F.gelu(self.Messages(track_embedding))\n",
        "        aggregated_message = torch.sum(messages,dim=1)\n",
        "        event_embedding = F.gelu(self.PostProcess(aggregated_message))\n",
        "        output = F.sigmoid(self.Classification(event_embedding))\n",
        "        return output"
      ]
    },
    {
      "cell_type": "code",
      "execution_count": null,
      "id": "46840065",
      "metadata": {
        "id": "46840065"
      },
      "outputs": [],
      "source": [
        "# Define a class that inherits from torch.nn.Module\n",
        "class TransformerEncoder(nn.Module):\n",
        "    '''\n",
        "    An Attention model that performs set level classification on a set.\n",
        "    '''\n",
        "    def __init__(self, in_dim, hidden_dim, num_encoders, out_dim):\n",
        "        super(TransformerEncoder, self).__init__()\n",
        "        self.init = nn.Linear(in_dim, hidden_dim)\n",
        "        encoder_layer = nn.TransformerEncoderLayer(d_model=hidden_dim, nhead=1, dim_feedforward=hidden_dim,dropout=0, batch_first=True)        # Define linear transformation 1\n",
        "        self.transformer_encoder = nn.TransformerEncoder(encoder_layer, num_layers=num_encoders)\n",
        "        self.Classification = nn.Linear(hidden_dim,out_dim)\n",
        "    def forward(self, data):\n",
        "        embedding = F.gelu(self.init(data))\n",
        "        embedding = F.gelu(self.transformer_encoder(embedding))\n",
        "        embedding = torch.mean(embedding,dim=1)\n",
        "        output = F.sigmoid(self.Classification(embedding))\n",
        "        return output"
      ]
    },
    {
      "cell_type": "code",
      "execution_count": null,
      "id": "b5a628a8",
      "metadata": {
        "id": "b5a628a8"
      },
      "outputs": [],
      "source": [
        "# Define the training loop\n",
        "def train(model, optimizer, loss_fn, train_dataloader, val_dataloader, lr_step, epochs=20):\n",
        "\n",
        "    history = {'train_loss':[],'test_loss':[]}     # Define history dictionary\n",
        "\n",
        "    scheduler = torch.optim.lr_scheduler.StepLR(optimizer, step_size=lr_step, gamma=0.1)\n",
        "    # Loop through epoches\n",
        "    for e in range(epochs):\n",
        "        for X_train, y_train in train_dataloader:\n",
        "            # Train Model\n",
        "            model.train()                        # Switch model to training mode\n",
        "            optimizer.zero_grad()                # Reset the optimizers gradients\n",
        "            y_pred = model(X_train)             # Get the model prediction\n",
        "            loss = loss_fn(y_pred, y_train)     # Evaluate loss function\n",
        "            loss.backward()                      # Backward propogation\n",
        "            optimizer.step()                     # Gradient Descent\n",
        "        for X_val, y_val in val_dataloader:\n",
        "            # Validate Model\n",
        "            model.eval()\n",
        "            y_pred = model(X_val)    # Get model output on test data\n",
        "            test_loss = loss_fn(y_pred,y_val)   # Evaluate loss on test preditions\n",
        "\n",
        "        history['train_loss'].append(loss.detach().cpu().numpy())        # Append train loss to history (detach and convert to numpy array)\n",
        "        history['test_loss'].append(test_loss.detach().cpu().numpy())    # Append test loss to history (detach and convert to numpy array)\n",
        "        if (e+1)%1==0:\n",
        "            print('Epoch:',e+1,'\\tTrain Loss:',round(float(loss),4),'\\tTest Loss:',round(float(test_loss),4))\n",
        "        scheduler.step()\n",
        "        if (e+1)%lr_step==0:\n",
        "            print(\"\\tReducing Learning Rate!\")\n",
        "    return history"
      ]
    },
    {
      "cell_type": "code",
      "execution_count": null,
      "id": "d04323f2",
      "metadata": {
        "id": "d04323f2"
      },
      "outputs": [],
      "source": [
        "# Initialize model\n",
        "MLP = MultiLayerPerceptron(in_dim=3*padding_particle_cutoff,hidden_dim=164, num_layers=2, out_dim=1)    # Declare model using NeuralNet Class\n",
        "MLP.to(device)                                       # Put model on device (cpu or gpu)\n",
        "print(MLP)                                           # Print layers in model\n",
        "\n",
        "# Calculate and print trainable parameters\n",
        "pytorch_total_params = sum(p.numel() for p in MLP.parameters() if p.requires_grad)\n",
        "print(\"Trainable Parameters: \", pytorch_total_params,\"\\n\")\n",
        "\n",
        "# Declare optimizer and loss function\n",
        "optimizer = optim.AdamW(MLP.parameters(), lr=1e-6)  # Adam = Adaptive Moment Estimation, lr = learning rate\n",
        "loss_fn = nn.BCELoss()                                 # BCE = Binary Cross Entropy, used for binary classification\n",
        "\n",
        "#Train Model\n",
        "history = train(MLP, optimizer, loss_fn, train_dataloader, val_dataloader, lr_step=15, epochs=30)                                             # Train the model!\n",
        "\n",
        "# Plot Training History\n",
        "plt.plot(history['train_loss'],label='train')\n",
        "plt.plot(history['test_loss'],label='test')\n",
        "plt.title(\"Loss\")\n",
        "plt.legend()\n",
        "plt.yscale('log')\n",
        "plt.show()\n",
        "\n",
        "torch.save(MLP, \"MLP.pt\")"
      ]
    },
    {
      "cell_type": "code",
      "execution_count": null,
      "id": "51bb432f",
      "metadata": {
        "id": "51bb432f"
      },
      "outputs": [],
      "source": [
        "# Initialize model\n",
        "GNN = DeepSets(in_dim=3,hidden_dim=222,out_dim=1)    # Declare model using NeuralNet Class\n",
        "GNN.to(device)                                       # Put model on device (cpu or gpu)\n",
        "print(GNN)                                           # Print layers in model\n",
        "\n",
        "# Calculate and print trainable parameters\n",
        "pytorch_total_params = sum(p.numel() for p in GNN.parameters() if p.requires_grad)\n",
        "print(\"Trainable Parameters: \", pytorch_total_params,\"\\n\")\n",
        "\n",
        "# Declare optimizer and loss function\n",
        "optimizer = optim.AdamW(GNN.parameters(), lr=1e-6)  # Adam = Adaptive Moment Estimation, lr = learning rate\n",
        "loss_fn = nn.BCELoss()                                 # BCE = Binary Cross Entropy, used for binary classification\n",
        "\n",
        "#Train Model\n",
        "history = train(GNN, optimizer, loss_fn, train_dataloader, val_dataloader, lr_step=15, epochs=30)                                             # Train the model!\n",
        "\n",
        "# Plot Training History\n",
        "plt.plot(history['train_loss'],label='train')\n",
        "plt.plot(history['test_loss'],label='test')\n",
        "plt.title(\"Loss\")\n",
        "plt.legend()\n",
        "plt.yscale('log')\n",
        "plt.show()\n",
        "\n",
        "torch.save(GNN, \"GNN.pt\")"
      ]
    },
    {
      "cell_type": "code",
      "execution_count": null,
      "id": "cba8fdfb",
      "metadata": {
        "id": "cba8fdfb"
      },
      "outputs": [],
      "source": [
        "# Initialize model\n",
        "Transformer = TransformerEncoder(in_dim=3,hidden_dim=90,num_encoders=2,out_dim=1)    # Declare model using NeuralNet Class\n",
        "Transformer.to(device)                                       # Put model on device (cpu or gpu)\n",
        "print(Transformer)                                           # Print layers in model\n",
        "\n",
        "# Calculate and print trainable parameters\n",
        "pytorch_total_params = sum(p.numel() for p in Transformer.parameters() if p.requires_grad)\n",
        "print(\"Trainable Parameters: \", pytorch_total_params,\"\\n\")\n",
        "\n",
        "# Declare optimizer and loss function\n",
        "optimizer = optim.AdamW(Transformer.parameters(), lr=1e-5)  # Adam = Adaptive Moment Estimation, lr = learning rate\n",
        "loss_fn = nn.BCELoss()                                 # BCE = Binary Cross Entropy, used for binary classification\n",
        "\n",
        "#Train Model\n",
        "history = train(Transformer, optimizer, loss_fn, train_dataloader, val_dataloader, lr_step=15, epochs=30)                                             # Train the model!\n",
        "\n",
        "# Plot Training History\n",
        "plt.plot(history['train_loss'],label='train')\n",
        "plt.plot(history['test_loss'],label='test')\n",
        "plt.title(\"Loss\")\n",
        "plt.legend()\n",
        "plt.yscale('log')\n",
        "plt.show()\n",
        "\n",
        "torch.save(Transformer, \"Transformer.pt\")"
      ]
    },
    {
      "cell_type": "code",
      "execution_count": null,
      "id": "3835f79f",
      "metadata": {
        "id": "3835f79f"
      },
      "outputs": [],
      "source": [
        "MLP = torch.load(\"MLP.pt\", weights_only=False, map_location=device)\n",
        "GNN = torch.load(\"GNN.pt\", weights_only=False, map_location=device)\n",
        "Transformer = torch.load(\"Transformer.pt\", weights_only=False, map_location=device)"
      ]
    },
    {
      "cell_type": "code",
      "execution_count": null,
      "id": "906d59b6",
      "metadata": {
        "id": "906d59b6"
      },
      "outputs": [],
      "source": [
        "# Define traditional ROC curve\n",
        "def roc(y_pred,y_true):\n",
        "    sig_eff = []\n",
        "    bkg_eff = []\n",
        "\n",
        "    sig = y_true==1\n",
        "    bkg = y_true==0\n",
        "\n",
        "    thresholds = np.linspace(0,1,100)\n",
        "\n",
        "    # Iterate over thresholds and calculate sig and bkg efficiency\n",
        "    for threshold in thresholds:\n",
        "        sig_eff.append(((y_pred[sig] > threshold).sum() / y_true[sig].shape[0]))   # Sum over sig predictions > threshold and divide by total number of true sig instances\n",
        "        bkg_eff.append(((y_pred[bkg] < threshold).sum()  / y_true[bkg].shape[0]))  # Sum over bkg predictions < threshold and divide by total number of true bkg instances\n",
        "\n",
        "    return np.array(sig_eff), np.array(bkg_eff), thresholds\n",
        "\n",
        "# Define ATLAS Style ROC curve\n",
        "def ATLAS_roc(y_pred,y_true):\n",
        "    sig_eff = []\n",
        "    bkg_eff = []\n",
        "\n",
        "    sig = y_true==1\n",
        "    bkg = y_true==0\n",
        "\n",
        "    thresholds = np.linspace(0,1,1000)\n",
        "\n",
        "    for threshold in thresholds:\n",
        "        sig_eff.append(((y_pred[sig] > threshold).sum() / y_true[sig].shape[0]))\n",
        "        bkg_eff.append(1-((y_pred[bkg] < threshold).sum()  / y_true[bkg].shape[0]))\n",
        "\n",
        "    bkg_rej = [1/x for x in bkg_eff]  # ATLAS inverts bkg eff and uses bkg rejection instead\n",
        "    return np.array(sig_eff), np.array(bkg_rej), thresholds"
      ]
    },
    {
      "cell_type": "code",
      "execution_count": null,
      "id": "eecafce9",
      "metadata": {
        "id": "eecafce9"
      },
      "outputs": [],
      "source": [
        "def eval_model(model, loss_fn, test_dataloader):\n",
        "    # Get Models predictions\n",
        "    prediction = []\n",
        "    truth = []\n",
        "    test_loss = []\n",
        "    for X_test, y_test in test_dataloader:\n",
        "        model.eval()\n",
        "        y_pred = model(X_test)    # Get model output on test data\n",
        "        loss = loss_fn(y_pred,y_test)\n",
        "        test_loss.append(loss.detach().cpu().numpy())   # Evaluate loss on test preditions\n",
        "        prediction.append(y_pred.detach().cpu().numpy())\n",
        "        truth.append(y_test.detach().cpu().numpy())\n",
        "\n",
        "    prediction = np.array(ak.ravel(prediction))\n",
        "    truth = np.array(ak.ravel(truth))\n",
        "\n",
        "    # Find indices of sig and bkg labels\n",
        "    sig = np.where(truth==1)\n",
        "    bkg = np.where(truth==0)\n",
        "\n",
        "    eff_sig, eff_bkg, thresh = roc(prediction,truth)\n",
        "\n",
        "    WPs = [25,50,75]\n",
        "    cuts = []\n",
        "    for WP in WPs:\n",
        "        mask = eff_sig>(WP/100)\n",
        "        idx = len(eff_sig[mask])-1\n",
        "        cut = thresh[idx]\n",
        "        cuts.append(cut)\n",
        "\n",
        "    # Plot Model Predictions\n",
        "    plt.title(model.__class__.__name__+\" Predictions\")\n",
        "    plt.hist(prediction[sig],histtype='step',color='r',label=\"sig\",bins=40)\n",
        "    plt.hist(prediction[bkg],histtype='step',color='b',label=\"bkg\",bins=40)\n",
        "    colors=['c','m','y']\n",
        "    labels=[str(x)+\"% WP\" for x in WPs]\n",
        "    for i, cut in enumerate(cuts):\n",
        "        plt.axvline(cut,linestyle='--',color=colors[i%3],label=labels[i])\n",
        "    plt.xlabel(\"Model Score\")\n",
        "    plt.ylabel(\"Events\")\n",
        "    #plt.yscale('log')\n",
        "    plt.legend()\n",
        "    plt.show()\n",
        "\n",
        "    return prediction, truth"
      ]
    },
    {
      "cell_type": "code",
      "execution_count": null,
      "id": "769d5abc",
      "metadata": {
        "id": "769d5abc"
      },
      "outputs": [],
      "source": [
        "loss_fn = nn.BCELoss()\n",
        "MLP_pred, MLP_true = eval_model(MLP, loss_fn, test_dataloader)\n",
        "GNN_pred, GNN_true = eval_model(GNN, loss_fn, test_dataloader)\n",
        "Trans_pred, Trans_true = eval_model(Transformer, loss_fn, test_dataloader)"
      ]
    },
    {
      "cell_type": "code",
      "execution_count": null,
      "id": "de6f3aa9",
      "metadata": {
        "id": "de6f3aa9"
      },
      "outputs": [],
      "source": [
        "# Plot Tradiation ROC Curve\n",
        "MLP_eff_sig, MLP_eff_bkg, MLP_thresh = roc(MLP_pred,MLP_true)\n",
        "GNN_eff_sig, GNN_eff_bkg, GNN_thresh = roc(GNN_pred,GNN_true)\n",
        "Trans_eff_sig, Trans_eff_bkg, Trans_thresh = roc(Trans_pred,Trans_true)\n",
        "\n",
        "plt.title(\"ROC Curve\")\n",
        "plt.plot(MLP_eff_sig,MLP_eff_bkg,color='r',label=\"MLP\")\n",
        "plt.plot(GNN_eff_sig,GNN_eff_bkg,color='g',label=\"GNN\")\n",
        "plt.plot(Trans_eff_sig,Trans_eff_bkg,color='b',label=\"Transformer\")\n",
        "plt.plot([1,0],'--',color='k',label=\"Random Model\")\n",
        "plt.xlabel(\"Signal Efficiency\")\n",
        "plt.ylabel(\"Background Efficiency\")\n",
        "plt.legend()\n",
        "plt.show()\n",
        "\n",
        "# Plot ATLAS Style ROC Curve\n",
        "MLP_eff_sig, MLP_eff_bkg, MLP_thresh = ATLAS_roc(MLP_pred,MLP_true)\n",
        "GNN_eff_sig, GNN_eff_bkg, GNN_thresh = ATLAS_roc(GNN_pred,GNN_true)\n",
        "Trans_eff_sig, Trans_eff_bkg, Trans_thresh = ATLAS_roc(Trans_pred,Trans_true)\n",
        "\n",
        "plt.title(\"ATLAS ROC Curve\")\n",
        "plt.plot(MLP_eff_sig,MLP_eff_bkg,color='r',label=\"MLP\")\n",
        "plt.plot(GNN_eff_sig,GNN_eff_bkg,color='g',label=\"GNN\")\n",
        "plt.plot(Trans_eff_sig,Trans_eff_bkg,color='b',label=\"Transformer\")\n",
        "plt.xlabel(\"Signal Efficiency\")\n",
        "plt.ylabel(\"Background Rejection\")\n",
        "plt.yscale('log')\n",
        "plt.grid(True,which='both')\n",
        "plt.xlim([0, 1])\n",
        "plt.legend()\n",
        "plt.show()\n",
        "\n",
        "plt.title(\"ATLAS ROC Curve\")\n",
        "plt.plot(MLP_eff_sig,MLP_eff_bkg,color='r',label=\"MLP\")\n",
        "plt.plot(GNN_eff_sig,GNN_eff_bkg,color='g',label=\"GNN\")\n",
        "plt.plot(Trans_eff_sig,Trans_eff_bkg,color='b',label=\"Transformer\")\n",
        "plt.xlabel(\"Signal Efficiency\")\n",
        "plt.ylabel(\"Background Rejection\")\n",
        "plt.yscale('log')\n",
        "plt.grid(True,which='both')\n",
        "plt.xlim([0, 0.2])\n",
        "plt.legend()\n",
        "plt.show()\n",
        "\n",
        "plt.title(\"ATLAS ROC Curve\")\n",
        "plt.plot(MLP_eff_sig,MLP_eff_bkg,color='r',label=\"MLP\")\n",
        "plt.plot(GNN_eff_sig,GNN_eff_bkg,color='g',label=\"GNN\")\n",
        "plt.plot(Trans_eff_sig,Trans_eff_bkg,color='b',label=\"Transformer\")\n",
        "plt.xlabel(\"Signal Efficiency\")\n",
        "plt.ylabel(\"Background Rejection\")\n",
        "plt.yscale('log')\n",
        "plt.grid(True,which='both')\n",
        "plt.xlim([0.7, 1])\n",
        "plt.ylim([0, 18])\n",
        "plt.legend()\n",
        "plt.show()"
      ]
    },
    {
      "cell_type": "code",
      "execution_count": null,
      "id": "235254b1",
      "metadata": {
        "id": "235254b1"
      },
      "outputs": [],
      "source": []
    }
  ],
  "metadata": {
    "kernelspec": {
      "display_name": "ML_Tutorial_2025",
      "language": "python",
      "name": "ml_tutorial_2025"
    },
    "language_info": {
      "codemirror_mode": {
        "name": "ipython",
        "version": 3
      },
      "file_extension": ".py",
      "mimetype": "text/x-python",
      "name": "python",
      "nbconvert_exporter": "python",
      "pygments_lexer": "ipython3",
      "version": "3.10.12"
    },
    "colab": {
      "provenance": []
    }
  },
  "nbformat": 4,
  "nbformat_minor": 5
}